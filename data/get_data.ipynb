{
 "cells": [
  {
   "cell_type": "code",
   "execution_count": null,
   "metadata": {},
   "outputs": [
    {
     "name": "stdout",
     "output_type": "stream",
     "text": [
      "'NoneType' object has no attribute 'cadam32bit_grad_fp32'\n"
     ]
    },
    {
     "name": "stderr",
     "output_type": "stream",
     "text": [
      "/Users/junyuye/Library/Python/3.9/lib/python/site-packages/bitsandbytes/cextension.py:34: UserWarning: The installed version of bitsandbytes was compiled without GPU support. 8-bit optimizers, 8-bit multiplication, and GPU quantization are unavailable.\n",
      "  warn(\"The installed version of bitsandbytes was compiled without GPU support. \"\n"
     ]
    }
   ],
   "source": [
    "import random\n",
    "from transformers import AutoTokenizer, AutoModelForCausalLM, TrainingArguments, Trainer, BitsAndBytesConfig\n",
    "from datasets import load_dataset\n",
    "\n",
    "seed = 2025\n",
    "random.seed(seed)"
   ]
  },
  {
   "cell_type": "code",
   "execution_count": 28,
   "metadata": {},
   "outputs": [
    {
     "name": "stdout",
     "output_type": "stream",
     "text": [
      "6820506 10000\n"
     ]
    }
   ],
   "source": [
    "system_prompt = \"\"\"你是一个情感陪伴助手，善于体会用户情感需求。你能够和用户对话的同时感受用户的情感，\n",
    "并遵循给定的【聊天历史】做出符合正常行为逻辑，顺应用户情绪的回答。回答中包含的情绪需要与【聊天历史】中的情绪变化一致。\n",
    "若没有【聊天历史】则自己感受用户话语中的情感，进行符合用户情感的体贴答复。\"\"\"\n",
    "\n",
    "dataset = load_dataset(\"gauishou233/friend_dialog_dataset\")\n",
    "print(len(dataset[\"train\"]), len(dataset[\"test\"]))\n",
    "\n",
    "train_dataset = dataset[\"train\"].shuffle().select(range(len(dataset[\"train\"])//10))\n",
    "test_dataset = dataset[\"test\"].shuffle().select(range(1000))\n",
    "del dataset"
   ]
  },
  {
   "cell_type": "code",
   "execution_count": null,
   "metadata": {},
   "outputs": [
    {
     "name": "stdout",
     "output_type": "stream",
     "text": [
      "BOS token: None\n",
      "EOS token: <|im_end|>\n"
     ]
    },
    {
     "name": "stderr",
     "output_type": "stream",
     "text": [
      "100%|██████████| 682050/682050 [00:25<00:00, 27243.21it/s]\n"
     ]
    }
   ],
   "source": [
    "from typing import List, Optional\n",
    "from pprint import pprint\n",
    "from tqdm import tqdm\n",
    "\n",
    "model_name = \"Qwen/Qwen2.5-7B-Instruct\"\n",
    "tokenizer = AutoTokenizer.from_pretrained(model_name, trust_remote_code=True)  # Qwen 需要支持远程代码\n",
    "# tokenizer.pad_token = tokenizer.eos_token\n",
    "print(\"BOS token:\", tokenizer.bos_token)\n",
    "print(\"EOS token:\", tokenizer.eos_token)\n",
    "\n",
    "\n",
    "def truncate_if_odd(lst):\n",
    "    if len(lst) % 2 != 0:\n",
    "        return lst[:-1]\n",
    "    return lst\n",
    "\n",
    "def to_chatml(\n",
    "    turns: List[str],\n",
    "    system_prompt: Optional[str] = None,\n",
    "    is_train_data: bool = False\n",
    ") -> str:\n",
    "    chatml = []\n",
    "\n",
    "    # if system prompt\n",
    "    if system_prompt is not None:\n",
    "        chatml.append(\"<|im_start|>system\")\n",
    "        chatml.append(system_prompt)\n",
    "        chatml.append(\"<|im_end|>\")\n",
    "\n",
    "    # even idx -> user，odd idx -> assistant\n",
    "    turns = truncate_if_odd(turns)\n",
    "    for idx, text in enumerate(turns):\n",
    "        role = \"user\" if idx % 2 == 0 else \"assistant\"\n",
    "        chatml.append(f\"<|im_start|>{role}\")\n",
    "        chatml.append(text)\n",
    "        chatml.append(\"<|im_end|>\")\n",
    "\n",
    "    # eos\n",
    "    if is_train_data:\n",
    "        chatml.append(\"<|endoftext|>\")\n",
    "\n",
    "    return \"\\n\".join(chatml) + \"\\n\"\n",
    "\n",
    "\n",
    "train_examples = [to_chatml(ex['dialog']) for ex in tqdm(train_dataset)]"
   ]
  },
  {
   "cell_type": "code",
   "execution_count": 37,
   "metadata": {},
   "outputs": [],
   "source": [
    "import json\n",
    "with open('./sentiment.jsonl', 'w') as f:\n",
    "    for t in train_examples:\n",
    "        text = {\"content\": t}\n",
    "        f.write(json.dumps(text, ensure_ascii=False) + '\\n')\n"
   ]
  }
 ],
 "metadata": {
  "kernelspec": {
   "display_name": "Python 3",
   "language": "python",
   "name": "python3"
  },
  "language_info": {
   "codemirror_mode": {
    "name": "ipython",
    "version": 3
   },
   "file_extension": ".py",
   "mimetype": "text/x-python",
   "name": "python",
   "nbconvert_exporter": "python",
   "pygments_lexer": "ipython3",
   "version": "3.9.6"
  }
 },
 "nbformat": 4,
 "nbformat_minor": 2
}
